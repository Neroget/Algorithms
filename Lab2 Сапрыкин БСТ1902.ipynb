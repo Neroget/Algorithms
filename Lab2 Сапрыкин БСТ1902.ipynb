{
 "cells": [
  {
   "cell_type": "markdown",
   "metadata": {},
   "source": [
    "## Лабораторная работа №2"
   ]
  },
  {
   "cell_type": "markdown",
   "metadata": {},
   "source": [
    "## Выполнил студент группы БСТ-1902 \n",
    "## Сапрыкин Денис Валерьевич"
   ]
  },
  {
   "cell_type": "markdown",
   "metadata": {},
   "source": [
    "Реализовать методы поиска в соответствии с заданием. Организовать генерацию начального набора случайных данных. Для всех вариантов добавить реализацию добавления, поиска и удаления элементов. Оценить время работы каждого алгоритма поиска и сравнить его со временем работы стандартной функции поиска, используемой в выбранном языке программирования."
   ]
  },
  {
   "cell_type": "markdown",
   "metadata": {},
   "source": [
    "## Задание №1\n",
    "### Бинарный поиск"
   ]
  },
  {
   "cell_type": "code",
   "execution_count": null,
   "metadata": {},
   "outputs": [],
   "source": [
    "def random_arr(m = 50, min_limit = -250, max_limit = 1020):\n",
    "    import random\n",
    "    return [random.randint(min_limit, max_limit) for _ in range(m)]"
   ]
  },
  {
   "cell_type": "code",
   "execution_count": 8,
   "metadata": {},
   "outputs": [
    {
     "name": "stdout",
     "output_type": "stream",
     "text": [
      "[6, 6, 25, 41, 43, 48, 52, 57, 58, 58, 65, 69, 74, 78, 79]\n",
      "В  массиве нет данного числа\n",
      "Добавить элемент в массив? \n",
      "да\n",
      "[6, 6, 25, 40, 41, 43, 48, 52, 57, 58, 58, 65, 69, 74, 78, 79]\n",
      "Удалить элемент из массива?\n",
      "да\n",
      "[6, 6, 25, 41, 43, 48, 52, 57, 58, 58, 65, 69, 74, 78, 79]\n"
     ]
    }
   ],
   "source": [
    "\n",
    "def BinSearch(arr, x):\n",
    "    i = 0\n",
    "    j = len(arr)-1\n",
    "    while i < j:\n",
    "        m = int((i+j)/2)\n",
    "        if x > arr[m]:\n",
    "            i = m+1\n",
    "        else:\n",
    "            j = m\n",
    "    return j\n",
    "newMatrix = random_arr(15, -25, 100)\n",
    "newMatrix.sort()\n",
    "print (newMatrix)\n",
    "k=40\n",
    "g=BinSearch(newMatrix, k)\n",
    "if newMatrix[g] == k:\n",
    "    print (\"Это элемент под номером \",g)\n",
    "else: print (\"В  массиве нет данного числа\")\n",
    "print (\"Добавить элемент в массив? \")\n",
    "s=(input())\n",
    "if s == \"да\":\n",
    "    newMatrix.insert(g, k)\n",
    "    print (newMatrix)\n",
    "if newMatrix[g] == k: \n",
    "    print (\"Удалить элемент из массива?\")\n",
    "    s=(input())\n",
    "    if s == \"да\":\n",
    "        newMatrix.pop(g)\n",
    "        print (newMatrix)\n"
   ]
  },
  {
   "cell_type": "markdown",
   "metadata": {},
   "source": [
    "### Бинарное дерево"
   ]
  },
  {
   "cell_type": "code",
   "execution_count": 9,
   "metadata": {},
   "outputs": [
    {
     "name": "stdout",
     "output_type": "stream",
     "text": [
      "1\n",
      "6\n",
      "8\n",
      "9\n",
      "10\n",
      "12\n",
      "32\n",
      "34\n",
      "35\n",
      "1 найдено\n",
      "8 найдено\n"
     ]
    }
   ],
   "source": [
    "class Node:\n",
    "\n",
    "    def __init__(self, data):\n",
    "\n",
    "        self.left = None\n",
    "        self.right = None\n",
    "        self.data = data\n",
    "\n",
    "    def insert(self, data):\n",
    "        if self.data:\n",
    "            if data < self.data:\n",
    "                if self.left is None:\n",
    "                    self.left = Node(data)\n",
    "                else:\n",
    "                    self.left.insert(data)\n",
    "            elif data > self.data:\n",
    "                if self.right is None:\n",
    "                    self.right = Node(data)\n",
    "                else:\n",
    "                    self.right.insert(data)\n",
    "        else:\n",
    "            self.data = data\n",
    "\n",
    "    def search(self, lkpval):\n",
    "        if lkpval < self.data:\n",
    "            if self.left is None:\n",
    "                return str(lkpval)+\" Не найдено\"\n",
    "            return self.left.search(lkpval)\n",
    "        elif lkpval > self.data:\n",
    "            if self.right is None:\n",
    "                return str(lkpval)+\" Не найдено\"\n",
    "            return self.right.search(lkpval)\n",
    "        else:\n",
    "            return str(self.data) + ' найдено'\n",
    "            \n",
    "    def deleted (self, nod):\n",
    "        self=self.search(nod)\n",
    "        if self.right is not None:\n",
    "            self.data=self.right.data\n",
    "            return self.right.deleted(nod)\n",
    "        elif self.left is not None:\n",
    "            self.data=self.left.data\n",
    "            deleted(self.left)\n",
    "        elif (self.left is None) and (self.right is None):\n",
    "            del(nod)\n",
    "\n",
    "    def PrintTree(self):\n",
    "        if self.left:\n",
    "            self.left.PrintTree()\n",
    "        print( self.data),\n",
    "        if self.right:\n",
    "            self.right.PrintTree()\n",
    "            \n",
    "root = Node(12)           \n",
    "root.insert(1)\n",
    "root.insert(34)\n",
    "root.insert(35)\n",
    "root.insert(6)\n",
    "root.insert(10)\n",
    "root.insert(9)\n",
    "root.insert(32)\n",
    "root.insert(8)\n",
    "root.PrintTree()            \n",
    "print(root.search(1))\n",
    "print(root.search(8))            "
   ]
  },
  {
   "cell_type": "markdown",
   "metadata": {},
   "source": [
    "### Фибоначчиев "
   ]
  },
  {
   "cell_type": "code",
   "execution_count": 10,
   "metadata": {},
   "outputs": [
    {
     "name": "stdout",
     "output_type": "stream",
     "text": [
      "[-17, -15, -3, 12, 13, 17, 27, 27, 30, 30, 36, 36, 38, 39, 45]\n",
      "Данного элемента в массиве нет\n",
      "Добавить элемент в массив?\n",
      "да\n",
      "[-17, -15, -3, 12, 13, 17, 25, 27, 27, 30, 30, 36, 36, 38, 39, 45]\n",
      "Удалить элемент из массива?\n",
      "да\n",
      "[-17, -15, -3, 12, 13, 17, 27, 27, 30, 30, 36, 36, 38, 39, 45]\n"
     ]
    }
   ],
   "source": [
    "def fibMonaccianSearch(arr, x, n):\n",
    "    fibMMm2 = 0 # (м-2) -ый номер Фибоначчи\n",
    "    fibMMm1 = 1  \n",
    "    fibM = fibMMm2 + fibMMm1 # m'th Фибоначчи\n",
    "    while (fibM < n):\n",
    "        fibMMm2 = fibMMm1\n",
    "        fibMMm1 = fibM\n",
    "        fibM = fibMMm2 + fibMMm1\n",
    "    offset = -1;\n",
    "    while (fibM > 1):\n",
    "        i = min(offset+fibMMm2, n-1)\n",
    "        if (arr[i] < x):\n",
    "            fibM = fibMMm1\n",
    "            fibMMm1 = fibMMm2\n",
    "            fibMMm2 = fibM - fibMMm1\n",
    "            offset = i\n",
    "        elif (arr[i] > x):\n",
    "            fibM = fibMMm2\n",
    "            fibMMm1 = fibMMm1 - fibMMm2\n",
    "            fibMMm2 = fibM - fibMMm1\n",
    "        else :\n",
    "            return i\n",
    "    if(fibMMm1 and arr[offset+1] == x):\n",
    "        return offset+1;\n",
    "    return offset+1\n",
    "\n",
    "newMatrix = random_arr(15, -20, 50)\n",
    "newMatrix.sort()\n",
    "print (newMatrix)\n",
    "k=25\n",
    "n=len(newMatrix)\n",
    "g=fibMonaccianSearch(newMatrix, k, n)\n",
    "if newMatrix[g] == k:\n",
    "    print (\"Это элемент под номером \",g)\n",
    "else: print (\"Данного элемента в массиве нет\")\n",
    "print (\"Добавить элемент в массив?\")\n",
    "s=(input())\n",
    "if s == \"да\":\n",
    "    newMatrix.insert(g, k)\n",
    "    print (newMatrix)\n",
    "if newMatrix[g] == k: \n",
    "    print (\"Удалить элемент из массива?\")\n",
    "    s=(input())\n",
    "    if s == \"да\":\n",
    "        newMatrix.pop(g)\n",
    "        print (newMatrix)"
   ]
  },
  {
   "cell_type": "markdown",
   "metadata": {},
   "source": [
    "### Интерполяционный"
   ]
  },
  {
   "cell_type": "code",
   "execution_count": 13,
   "metadata": {},
   "outputs": [
    {
     "name": "stdout",
     "output_type": "stream",
     "text": [
      "[-19, -13, -9, 5, 10, 20, 20, 33, 38, 59, 65, 76, 76, 81, 93]\n",
      "Данного элемента в массиве нет\n",
      "Добавить элемент в массив?\n",
      "да\n",
      "[-19, -13, -9, 5, 10, 20, 20, 33, 38, 59, 65, 76, 76, 80, 81, 93]\n",
      "Удалить элемент из массива?\n",
      "да\n",
      "[-19, -13, -9, 5, 10, 20, 20, 33, 38, 59, 65, 76, 76, 81, 93]\n"
     ]
    }
   ],
   "source": [
    "def interpolation(a, k) : \n",
    "    left = 0  \n",
    "    right = len(a) - 1  \n",
    "    while a[left] < k and k < a[right]:\n",
    "        mid = int(left + (k - a[left]) * (right - left) / (a[right] - a[left]))  \n",
    "        if a[mid] < k:\n",
    "            left = mid + 1\n",
    "        elif a[mid] > k:\n",
    "            right = mid - 1\n",
    "        else:\n",
    "            return mid\n",
    "\n",
    "    if a[left] == k:\n",
    "        return left\n",
    "    elif a[right] == k:\n",
    "        return right\n",
    "    else:\n",
    "        return left\n",
    "    \n",
    "newMatrix = random_arr(15, -25, 100)\n",
    "newMatrix.sort()\n",
    "print (newMatrix)\n",
    "k=80\n",
    "g=interpolation(newMatrix, k)\n",
    "if newMatrix[g] == k:\n",
    "    print (\"Это элемент под номером \",g)\n",
    "else: print (\"Данного элемента в массиве нет\")\n",
    "print (\"Добавить элемент в массив?\")\n",
    "s=(input())\n",
    "if s == \"да\":\n",
    "    newMatrix.insert(g, k)\n",
    "    print (newMatrix)\n",
    "if newMatrix[g] == k: \n",
    "    print (\"Удалить элемент из массива?\")\n",
    "    s=(input())\n",
    "    if s == \"да\":\n",
    "        newMatrix.pop(g)\n",
    "        print (newMatrix)"
   ]
  },
  {
   "cell_type": "markdown",
   "metadata": {},
   "source": [
    "## Задание №2\n",
    "### Простое рехэширование"
   ]
  },
  {
   "cell_type": "code",
   "execution_count": 14,
   "metadata": {},
   "outputs": [
    {
     "name": "stdout",
     "output_type": "stream",
     "text": [
      "Добавить новый идентификатор в таблицу?\n",
      "да\n",
      "5\n",
      "Добавить новый идентификатор в таблицу?\n",
      "да\n",
      "18\n",
      "Добавить новый идентификатор в таблицу?\n",
      "нет\n",
      "53   5\n",
      "105   18\n",
      "Найти идентификатор в таблице?\n"
     ]
    },
    {
     "ename": "KeyboardInterrupt",
     "evalue": "Interrupted by user",
     "output_type": "error",
     "traceback": [
      "\u001b[1;31m---------------------------------------------------------------------------\u001b[0m",
      "\u001b[1;31mKeyboardInterrupt\u001b[0m                         Traceback (most recent call last)",
      "\u001b[1;32m<ipython-input-14-e474baf18f85>\u001b[0m in \u001b[0;36m<module>\u001b[1;34m\u001b[0m\n\u001b[0;32m     42\u001b[0m \u001b[0ma\u001b[0m\u001b[1;33m.\u001b[0m\u001b[0mPrint\u001b[0m\u001b[1;33m(\u001b[0m\u001b[1;33m)\u001b[0m\u001b[1;33m\u001b[0m\u001b[1;33m\u001b[0m\u001b[0m\n\u001b[0;32m     43\u001b[0m \u001b[0mprint\u001b[0m \u001b[1;33m(\u001b[0m\u001b[1;34m\"Найти идентификатор в таблице?\"\u001b[0m\u001b[1;33m)\u001b[0m\u001b[1;33m\u001b[0m\u001b[1;33m\u001b[0m\u001b[0m\n\u001b[1;32m---> 44\u001b[1;33m \u001b[0mk\u001b[0m\u001b[1;33m=\u001b[0m\u001b[1;33m(\u001b[0m\u001b[0minput\u001b[0m\u001b[1;33m(\u001b[0m\u001b[1;33m)\u001b[0m\u001b[1;33m)\u001b[0m\u001b[1;33m\u001b[0m\u001b[1;33m\u001b[0m\u001b[0m\n\u001b[0m\u001b[0;32m     45\u001b[0m \u001b[1;32mif\u001b[0m \u001b[0mk\u001b[0m \u001b[1;33m==\u001b[0m \u001b[1;34m\"да\"\u001b[0m\u001b[1;33m:\u001b[0m\u001b[1;33m\u001b[0m\u001b[1;33m\u001b[0m\u001b[0m\n\u001b[0;32m     46\u001b[0m     \u001b[1;32mwhile\u001b[0m \u001b[0mk\u001b[0m \u001b[1;33m==\u001b[0m\u001b[1;34m\"да\"\u001b[0m\u001b[1;33m:\u001b[0m\u001b[1;33m\u001b[0m\u001b[1;33m\u001b[0m\u001b[0m\n",
      "\u001b[1;32m~\\anaconda3\\lib\\site-packages\\ipykernel\\kernelbase.py\u001b[0m in \u001b[0;36mraw_input\u001b[1;34m(self, prompt)\u001b[0m\n\u001b[0;32m    858\u001b[0m                 \u001b[1;34m\"raw_input was called, but this frontend does not support input requests.\"\u001b[0m\u001b[1;33m\u001b[0m\u001b[1;33m\u001b[0m\u001b[0m\n\u001b[0;32m    859\u001b[0m             )\n\u001b[1;32m--> 860\u001b[1;33m         return self._input_request(str(prompt),\n\u001b[0m\u001b[0;32m    861\u001b[0m             \u001b[0mself\u001b[0m\u001b[1;33m.\u001b[0m\u001b[0m_parent_ident\u001b[0m\u001b[1;33m,\u001b[0m\u001b[1;33m\u001b[0m\u001b[1;33m\u001b[0m\u001b[0m\n\u001b[0;32m    862\u001b[0m             \u001b[0mself\u001b[0m\u001b[1;33m.\u001b[0m\u001b[0m_parent_header\u001b[0m\u001b[1;33m,\u001b[0m\u001b[1;33m\u001b[0m\u001b[1;33m\u001b[0m\u001b[0m\n",
      "\u001b[1;32m~\\anaconda3\\lib\\site-packages\\ipykernel\\kernelbase.py\u001b[0m in \u001b[0;36m_input_request\u001b[1;34m(self, prompt, ident, parent, password)\u001b[0m\n\u001b[0;32m    902\u001b[0m             \u001b[1;32mexcept\u001b[0m \u001b[0mKeyboardInterrupt\u001b[0m\u001b[1;33m:\u001b[0m\u001b[1;33m\u001b[0m\u001b[1;33m\u001b[0m\u001b[0m\n\u001b[0;32m    903\u001b[0m                 \u001b[1;31m# re-raise KeyboardInterrupt, to truncate traceback\u001b[0m\u001b[1;33m\u001b[0m\u001b[1;33m\u001b[0m\u001b[1;33m\u001b[0m\u001b[0m\n\u001b[1;32m--> 904\u001b[1;33m                 \u001b[1;32mraise\u001b[0m \u001b[0mKeyboardInterrupt\u001b[0m\u001b[1;33m(\u001b[0m\u001b[1;34m\"Interrupted by user\"\u001b[0m\u001b[1;33m)\u001b[0m \u001b[1;32mfrom\u001b[0m \u001b[1;32mNone\u001b[0m\u001b[1;33m\u001b[0m\u001b[1;33m\u001b[0m\u001b[0m\n\u001b[0m\u001b[0;32m    905\u001b[0m             \u001b[1;32mexcept\u001b[0m \u001b[0mException\u001b[0m \u001b[1;32mas\u001b[0m \u001b[0me\u001b[0m\u001b[1;33m:\u001b[0m\u001b[1;33m\u001b[0m\u001b[1;33m\u001b[0m\u001b[0m\n\u001b[0;32m    906\u001b[0m                 \u001b[0mself\u001b[0m\u001b[1;33m.\u001b[0m\u001b[0mlog\u001b[0m\u001b[1;33m.\u001b[0m\u001b[0mwarning\u001b[0m\u001b[1;33m(\u001b[0m\u001b[1;34m\"Invalid Message:\"\u001b[0m\u001b[1;33m,\u001b[0m \u001b[0mexc_info\u001b[0m\u001b[1;33m=\u001b[0m\u001b[1;32mTrue\u001b[0m\u001b[1;33m)\u001b[0m\u001b[1;33m\u001b[0m\u001b[1;33m\u001b[0m\u001b[0m\n",
      "\u001b[1;31mKeyboardInterrupt\u001b[0m: Interrupted by user"
     ]
    }
   ],
   "source": [
    "import random\n",
    "\n",
    "class prost_rehash:\n",
    "\n",
    "    def __init__(self):\n",
    "        self.rhash=[None]*256\n",
    "        \n",
    "    def keys(self, element): \n",
    "        key=0\n",
    "        for i in range(len(element)):\n",
    "            key=key+ord(element[i])\n",
    "        return int(key%256)\n",
    "    \n",
    "    def add(self, element):\n",
    "        key=self.keys(element)\n",
    "        while self.rhash[key] is not None:\n",
    "            key=key+1\n",
    "        self.rhash[key]=element\n",
    "                   \n",
    "    def search(self, element):\n",
    "        key=self.keys(element)\n",
    "        while self.rhash[key] is not None:\n",
    "            if self.rhash[key]==element:\n",
    "                return key\n",
    "            else:\n",
    "                key=key+1\n",
    "        return None\n",
    "    \n",
    "    def Print(self): #\n",
    "        for  key, i in enumerate(self.rhash):\n",
    "            if self.rhash[key] is not None:\n",
    "                print(key, \" \", i)\n",
    "a=prost_rehash()\n",
    "print (\"Добавить новый идентификатор в таблицу?\")\n",
    "s=(input())\n",
    "if s == \"да\":\n",
    "    while s ==\"да\":\n",
    "        id=(input())\n",
    "        a.add(id)\n",
    "        print (\"Добавить новый идентификатор в таблицу?\")\n",
    "        s=(input())\n",
    "a.Print()\n",
    "print (\"Найти идентификатор в таблице?\")\n",
    "k=(input())\n",
    "if k == \"да\":\n",
    "    while k ==\"да\":\n",
    "        id=(input())\n",
    "        hash =a.search (id)\n",
    "        print (\"Элемент номер \", hash)\n",
    "        print (\"Найти идентификатор в таблице?\")\n",
    "        k=(input())"
   ]
  },
  {
   "cell_type": "markdown",
   "metadata": {},
   "source": [
    "### Рехэширование с помощью псевдослучайных чисел"
   ]
  },
  {
   "cell_type": "code",
   "execution_count": 18,
   "metadata": {},
   "outputs": [
    {
     "name": "stdout",
     "output_type": "stream",
     "text": [
      "Добавить новый идентификатор в таблицу?\n",
      "да\n",
      "7\n",
      "Добавить новый идентификатор в таблицу?\n",
      "да\n",
      "46\n",
      "Добавить новый идентификатор в таблицу?\n",
      "нет\n",
      "24   7\n",
      "75   46\n",
      "Найти идентификатор в таблице?\n"
     ]
    },
    {
     "ename": "KeyboardInterrupt",
     "evalue": "Interrupted by user",
     "output_type": "error",
     "traceback": [
      "\u001b[1;31m---------------------------------------------------------------------------\u001b[0m",
      "\u001b[1;31mKeyboardInterrupt\u001b[0m                         Traceback (most recent call last)",
      "\u001b[1;32m<ipython-input-18-dbdb212c48a9>\u001b[0m in \u001b[0;36m<module>\u001b[1;34m\u001b[0m\n\u001b[0;32m     55\u001b[0m \u001b[0ma\u001b[0m\u001b[1;33m.\u001b[0m\u001b[0mPrint\u001b[0m\u001b[1;33m(\u001b[0m\u001b[1;33m)\u001b[0m\u001b[1;33m\u001b[0m\u001b[1;33m\u001b[0m\u001b[0m\n\u001b[0;32m     56\u001b[0m \u001b[0mprint\u001b[0m \u001b[1;33m(\u001b[0m\u001b[1;34m\"Найти идентификатор в таблице?\"\u001b[0m\u001b[1;33m)\u001b[0m\u001b[1;33m\u001b[0m\u001b[1;33m\u001b[0m\u001b[0m\n\u001b[1;32m---> 57\u001b[1;33m \u001b[0mk\u001b[0m\u001b[1;33m=\u001b[0m\u001b[1;33m(\u001b[0m\u001b[0minput\u001b[0m\u001b[1;33m(\u001b[0m\u001b[1;33m)\u001b[0m\u001b[1;33m)\u001b[0m\u001b[1;33m\u001b[0m\u001b[1;33m\u001b[0m\u001b[0m\n\u001b[0m\u001b[0;32m     58\u001b[0m \u001b[1;32mif\u001b[0m \u001b[0mk\u001b[0m \u001b[1;33m==\u001b[0m \u001b[1;34m\"да\"\u001b[0m\u001b[1;33m:\u001b[0m\u001b[1;33m\u001b[0m\u001b[1;33m\u001b[0m\u001b[0m\n\u001b[0;32m     59\u001b[0m     \u001b[1;32mwhile\u001b[0m \u001b[0mk\u001b[0m \u001b[1;33m==\u001b[0m\u001b[1;34m\"да\"\u001b[0m\u001b[1;33m:\u001b[0m\u001b[1;33m\u001b[0m\u001b[1;33m\u001b[0m\u001b[0m\n",
      "\u001b[1;32m~\\anaconda3\\lib\\site-packages\\ipykernel\\kernelbase.py\u001b[0m in \u001b[0;36mraw_input\u001b[1;34m(self, prompt)\u001b[0m\n\u001b[0;32m    858\u001b[0m                 \u001b[1;34m\"raw_input was called, but this frontend does not support input requests.\"\u001b[0m\u001b[1;33m\u001b[0m\u001b[1;33m\u001b[0m\u001b[0m\n\u001b[0;32m    859\u001b[0m             )\n\u001b[1;32m--> 860\u001b[1;33m         return self._input_request(str(prompt),\n\u001b[0m\u001b[0;32m    861\u001b[0m             \u001b[0mself\u001b[0m\u001b[1;33m.\u001b[0m\u001b[0m_parent_ident\u001b[0m\u001b[1;33m,\u001b[0m\u001b[1;33m\u001b[0m\u001b[1;33m\u001b[0m\u001b[0m\n\u001b[0;32m    862\u001b[0m             \u001b[0mself\u001b[0m\u001b[1;33m.\u001b[0m\u001b[0m_parent_header\u001b[0m\u001b[1;33m,\u001b[0m\u001b[1;33m\u001b[0m\u001b[1;33m\u001b[0m\u001b[0m\n",
      "\u001b[1;32m~\\anaconda3\\lib\\site-packages\\ipykernel\\kernelbase.py\u001b[0m in \u001b[0;36m_input_request\u001b[1;34m(self, prompt, ident, parent, password)\u001b[0m\n\u001b[0;32m    902\u001b[0m             \u001b[1;32mexcept\u001b[0m \u001b[0mKeyboardInterrupt\u001b[0m\u001b[1;33m:\u001b[0m\u001b[1;33m\u001b[0m\u001b[1;33m\u001b[0m\u001b[0m\n\u001b[0;32m    903\u001b[0m                 \u001b[1;31m# re-raise KeyboardInterrupt, to truncate traceback\u001b[0m\u001b[1;33m\u001b[0m\u001b[1;33m\u001b[0m\u001b[1;33m\u001b[0m\u001b[0m\n\u001b[1;32m--> 904\u001b[1;33m                 \u001b[1;32mraise\u001b[0m \u001b[0mKeyboardInterrupt\u001b[0m\u001b[1;33m(\u001b[0m\u001b[1;34m\"Interrupted by user\"\u001b[0m\u001b[1;33m)\u001b[0m \u001b[1;32mfrom\u001b[0m \u001b[1;32mNone\u001b[0m\u001b[1;33m\u001b[0m\u001b[1;33m\u001b[0m\u001b[0m\n\u001b[0m\u001b[0;32m    905\u001b[0m             \u001b[1;32mexcept\u001b[0m \u001b[0mException\u001b[0m \u001b[1;32mas\u001b[0m \u001b[0me\u001b[0m\u001b[1;33m:\u001b[0m\u001b[1;33m\u001b[0m\u001b[1;33m\u001b[0m\u001b[0m\n\u001b[0;32m    906\u001b[0m                 \u001b[0mself\u001b[0m\u001b[1;33m.\u001b[0m\u001b[0mlog\u001b[0m\u001b[1;33m.\u001b[0m\u001b[0mwarning\u001b[0m\u001b[1;33m(\u001b[0m\u001b[1;34m\"Invalid Message:\"\u001b[0m\u001b[1;33m,\u001b[0m \u001b[0mexc_info\u001b[0m\u001b[1;33m=\u001b[0m\u001b[1;32mTrue\u001b[0m\u001b[1;33m)\u001b[0m\u001b[1;33m\u001b[0m\u001b[1;33m\u001b[0m\u001b[0m\n",
      "\u001b[1;31mKeyboardInterrupt\u001b[0m: Interrupted by user"
     ]
    }
   ],
   "source": [
    "class random_rehash():\n",
    "\n",
    "    def __init__(self):\n",
    "        self.rhash=[None]*256\n",
    "    \n",
    "    def rand(self, element):\n",
    "        key=0\n",
    "        for i in range(len(element)):\n",
    "            key=key+ord(element[i])\n",
    "        return key\n",
    "    \n",
    "    def keys(self, key, l): \n",
    "        random.seed(l)\n",
    "        return int(key+((random.random()*10000000000000000)%1000))\n",
    "            \n",
    "    \n",
    "    def add(self, element): \n",
    "        l=int(0)\n",
    "        key=self.rand(element)\n",
    "        key1=self.keys(key, l)%256\n",
    "        while key1<len(self.rhash) and self.rhash[key1] is not None:\n",
    "            l=l+1\n",
    "            key1= self.keys(key, l)%256\n",
    "        if key1<len(self.rhash):\n",
    "            self.rhash[key1]=element\n",
    "        else:\n",
    "            print(\"Таблица заполнена\")\n",
    "                   \n",
    "    def search(self, element): \n",
    "        l=int(0)\n",
    "        key=self.rand(element)\n",
    "        key1=self.keys(key, l)%256\n",
    "        while key1<len(self.rhash) and self.rhash[key1] is not None:\n",
    "            if self.rhash[key1]==element:\n",
    "                return key1\n",
    "            else:\n",
    "                l=l+1\n",
    "                key1=self.keys(key, l)\n",
    "        return None\n",
    "                 \n",
    "    def Print(self): \n",
    "        for key, i in enumerate(self.rhash):\n",
    "            if self.rhash[key] is not None:\n",
    "                print(key, \" \", i)\n",
    "                \n",
    "a=random_rehash()\n",
    "print (\"Добавить новый идентификатор в таблицу?\")\n",
    "s=(input())\n",
    "if s == \"да\":\n",
    "    while s ==\"да\":\n",
    "        id=(input())\n",
    "        a.add (id)\n",
    "        print (\"Добавить новый идентификатор в таблицу?\")\n",
    "        s=(input())\n",
    "a.Print()\n",
    "print (\"Найти идентификатор в таблице?\")\n",
    "k=(input())\n",
    "if k == \"да\":\n",
    "    while k ==\"да\":\n",
    "        id=(input())\n",
    "        hash =a.search (id)\n",
    "        print (hash)\n",
    "        print (\"Найти идентификатор в таблице?\")\n",
    "        k=(input())"
   ]
  },
  {
   "cell_type": "markdown",
   "metadata": {},
   "source": [
    "###  Метод цепочек"
   ]
  },
  {
   "cell_type": "code",
   "execution_count": 19,
   "metadata": {},
   "outputs": [
    {
     "name": "stdout",
     "output_type": "stream",
     "text": [
      "Добавить новый идентификатор в таблицу?\n",
      "да\n",
      "5\n",
      "Добавить новый идентификатор в таблицу?\n",
      "да\n",
      "79\n",
      "Добавить новый идентификатор в таблицу?\n",
      "нет\n",
      "(ключ) 2 - (Элемент) 79\n",
      "(ключ) 3 - (Элемент) 5\n",
      "Найти идентификатор в таблице?\n"
     ]
    },
    {
     "ename": "KeyboardInterrupt",
     "evalue": "Interrupted by user",
     "output_type": "error",
     "traceback": [
      "\u001b[1;31m---------------------------------------------------------------------------\u001b[0m",
      "\u001b[1;31mKeyboardInterrupt\u001b[0m                         Traceback (most recent call last)",
      "\u001b[1;32m<ipython-input-19-62b69d93d80b>\u001b[0m in \u001b[0;36m<module>\u001b[1;34m\u001b[0m\n\u001b[0;32m     48\u001b[0m \u001b[0ma\u001b[0m\u001b[1;33m.\u001b[0m\u001b[0mpr\u001b[0m\u001b[1;33m(\u001b[0m\u001b[1;33m)\u001b[0m\u001b[1;33m\u001b[0m\u001b[1;33m\u001b[0m\u001b[0m\n\u001b[0;32m     49\u001b[0m \u001b[0mprint\u001b[0m \u001b[1;33m(\u001b[0m\u001b[1;34m\"Найти идентификатор в таблице?\"\u001b[0m\u001b[1;33m)\u001b[0m\u001b[1;33m\u001b[0m\u001b[1;33m\u001b[0m\u001b[0m\n\u001b[1;32m---> 50\u001b[1;33m \u001b[0mk\u001b[0m\u001b[1;33m=\u001b[0m\u001b[1;33m(\u001b[0m\u001b[0minput\u001b[0m\u001b[1;33m(\u001b[0m\u001b[1;33m)\u001b[0m\u001b[1;33m)\u001b[0m\u001b[1;33m\u001b[0m\u001b[1;33m\u001b[0m\u001b[0m\n\u001b[0m\u001b[0;32m     51\u001b[0m \u001b[1;32mif\u001b[0m \u001b[0mk\u001b[0m \u001b[1;33m==\u001b[0m \u001b[1;34m\"да\"\u001b[0m\u001b[1;33m:\u001b[0m\u001b[1;33m\u001b[0m\u001b[1;33m\u001b[0m\u001b[0m\n\u001b[0;32m     52\u001b[0m     \u001b[1;32mwhile\u001b[0m \u001b[0mk\u001b[0m \u001b[1;33m==\u001b[0m\u001b[1;34m\"да\"\u001b[0m\u001b[1;33m:\u001b[0m\u001b[1;33m\u001b[0m\u001b[1;33m\u001b[0m\u001b[0m\n",
      "\u001b[1;32m~\\anaconda3\\lib\\site-packages\\ipykernel\\kernelbase.py\u001b[0m in \u001b[0;36mraw_input\u001b[1;34m(self, prompt)\u001b[0m\n\u001b[0;32m    858\u001b[0m                 \u001b[1;34m\"raw_input was called, but this frontend does not support input requests.\"\u001b[0m\u001b[1;33m\u001b[0m\u001b[1;33m\u001b[0m\u001b[0m\n\u001b[0;32m    859\u001b[0m             )\n\u001b[1;32m--> 860\u001b[1;33m         return self._input_request(str(prompt),\n\u001b[0m\u001b[0;32m    861\u001b[0m             \u001b[0mself\u001b[0m\u001b[1;33m.\u001b[0m\u001b[0m_parent_ident\u001b[0m\u001b[1;33m,\u001b[0m\u001b[1;33m\u001b[0m\u001b[1;33m\u001b[0m\u001b[0m\n\u001b[0;32m    862\u001b[0m             \u001b[0mself\u001b[0m\u001b[1;33m.\u001b[0m\u001b[0m_parent_header\u001b[0m\u001b[1;33m,\u001b[0m\u001b[1;33m\u001b[0m\u001b[1;33m\u001b[0m\u001b[0m\n",
      "\u001b[1;32m~\\anaconda3\\lib\\site-packages\\ipykernel\\kernelbase.py\u001b[0m in \u001b[0;36m_input_request\u001b[1;34m(self, prompt, ident, parent, password)\u001b[0m\n\u001b[0;32m    902\u001b[0m             \u001b[1;32mexcept\u001b[0m \u001b[0mKeyboardInterrupt\u001b[0m\u001b[1;33m:\u001b[0m\u001b[1;33m\u001b[0m\u001b[1;33m\u001b[0m\u001b[0m\n\u001b[0;32m    903\u001b[0m                 \u001b[1;31m# re-raise KeyboardInterrupt, to truncate traceback\u001b[0m\u001b[1;33m\u001b[0m\u001b[1;33m\u001b[0m\u001b[1;33m\u001b[0m\u001b[0m\n\u001b[1;32m--> 904\u001b[1;33m                 \u001b[1;32mraise\u001b[0m \u001b[0mKeyboardInterrupt\u001b[0m\u001b[1;33m(\u001b[0m\u001b[1;34m\"Interrupted by user\"\u001b[0m\u001b[1;33m)\u001b[0m \u001b[1;32mfrom\u001b[0m \u001b[1;32mNone\u001b[0m\u001b[1;33m\u001b[0m\u001b[1;33m\u001b[0m\u001b[0m\n\u001b[0m\u001b[0;32m    905\u001b[0m             \u001b[1;32mexcept\u001b[0m \u001b[0mException\u001b[0m \u001b[1;32mas\u001b[0m \u001b[0me\u001b[0m\u001b[1;33m:\u001b[0m\u001b[1;33m\u001b[0m\u001b[1;33m\u001b[0m\u001b[0m\n\u001b[0;32m    906\u001b[0m                 \u001b[0mself\u001b[0m\u001b[1;33m.\u001b[0m\u001b[0mlog\u001b[0m\u001b[1;33m.\u001b[0m\u001b[0mwarning\u001b[0m\u001b[1;33m(\u001b[0m\u001b[1;34m\"Invalid Message:\"\u001b[0m\u001b[1;33m,\u001b[0m \u001b[0mexc_info\u001b[0m\u001b[1;33m=\u001b[0m\u001b[1;32mTrue\u001b[0m\u001b[1;33m)\u001b[0m\u001b[1;33m\u001b[0m\u001b[1;33m\u001b[0m\u001b[0m\n",
      "\u001b[1;31mKeyboardInterrupt\u001b[0m: Interrupted by user"
     ]
    }
   ],
   "source": [
    "class chain_rehash:\n",
    "    def __init__(self):\n",
    "        self.rhash=[[]*0 for i in range(10)]\n",
    "    \n",
    "    def add(self, element):\n",
    "        key=int(0)\n",
    "        for i in range(len(element)):\n",
    "            key=key+ord(element[i])\n",
    "        key=key%10\n",
    "        self.rhash[key].append(element)\n",
    "        \n",
    "        \n",
    "    def search(self, element): \n",
    "            key=int(0)\n",
    "            for i in range(len(element)):\n",
    "                key=key+ord(element[i])\n",
    "            key=key%10\n",
    "            if self.rhash[key] is not None:\n",
    "                for i in range(len(self.rhash[key])):\n",
    "                    if self.rhash[key][i]==element:\n",
    "                        return key, i\n",
    "            return None, None\n",
    "            \n",
    "    def deleted(self, element):\n",
    "            key, i=self.search(element)\n",
    "            if key is not None:\n",
    "                del(self.rhash[key][i])\n",
    "                print(\"Элемент успешно удален\")\n",
    "            else:\n",
    "                print(\"Элемент не найден\")\n",
    "                return -1\n",
    "    \n",
    "    def pr(self):\n",
    "        for key in range(len(self.rhash)):\n",
    "            for i in range(len(self.rhash[key])):\n",
    "                if self.rhash[key][i] is not None:\n",
    "                    print(\"(ключ)\", key, \"- (Элемент)\", self.rhash[key][i])\n",
    "                    \n",
    "a=chain_rehash()\n",
    "print (\"Добавить новый идентификатор в таблицу?\")\n",
    "s=(input())\n",
    "if s == \"да\":\n",
    "    while s ==\"да\":\n",
    "        id=(input())\n",
    "        x=a.add (id)\n",
    "        print (\"Добавить новый идентификатор в таблицу?\")\n",
    "        s=(input())\n",
    "a.pr()\n",
    "print (\"Найти идентификатор в таблице?\")\n",
    "k=(input())\n",
    "if k == \"да\":\n",
    "    while k ==\"да\":\n",
    "        id=(input())\n",
    "        hash =a.search ( id)\n",
    "        print (hash)\n",
    "        print (\"Найти идентификатор в таблице?\")\n",
    "        k=(input())\n",
    "    if hash!= 1:\n",
    "        print (\"Удалить идентификатор из таблицы?\")\n",
    "        k=(input())\n",
    "        if k == \"да\":\n",
    "            hash =a.deleted (id)"
   ]
  },
  {
   "cell_type": "markdown",
   "metadata": {},
   "source": [
    "## Задание №3"
   ]
  },
  {
   "cell_type": "code",
   "execution_count": 20,
   "metadata": {},
   "outputs": [],
   "source": [
    "from IPython.display import HTML, display\n",
    "import random\n",
    "import time\n",
    "def tag(x, color='white'):\n",
    "    return f'<td style=\"width:24px;height:24px;text-align:center;\" bgcolor=\"{color}\">{x}</td>'\n",
    "th = ''.join(map(tag, ' abcdefgh '))"
   ]
  },
  {
   "cell_type": "code",
   "execution_count": 21,
   "metadata": {},
   "outputs": [],
   "source": [
    "def chessboard(data):\n",
    "    row = lambda i: ''.join([\n",
    "        tag('<span style=\"font-size:24px\">♛</span>' * v,\n",
    "            color='white' if (i+j+1)%2 else 'darkgray')\n",
    "        for j, v in enumerate(data[i])])\n",
    "    tb = ''.join([f'<tr>{tag(8-i)}{row(i)}{tag(8-i)}</tr>' for i in range(len(data))])\n",
    "    return HTML(f'<table>{th}{tb}{th}</table>')"
   ]
  },
  {
   "cell_type": "code",
   "execution_count": 22,
   "metadata": {},
   "outputs": [
    {
     "data": {
      "text/html": [
       "<table><td style=\"width:24px;height:24px;text-align:center;\" bgcolor=\"white\"> </td><td style=\"width:24px;height:24px;text-align:center;\" bgcolor=\"white\">a</td><td style=\"width:24px;height:24px;text-align:center;\" bgcolor=\"white\">b</td><td style=\"width:24px;height:24px;text-align:center;\" bgcolor=\"white\">c</td><td style=\"width:24px;height:24px;text-align:center;\" bgcolor=\"white\">d</td><td style=\"width:24px;height:24px;text-align:center;\" bgcolor=\"white\">e</td><td style=\"width:24px;height:24px;text-align:center;\" bgcolor=\"white\">f</td><td style=\"width:24px;height:24px;text-align:center;\" bgcolor=\"white\">g</td><td style=\"width:24px;height:24px;text-align:center;\" bgcolor=\"white\">h</td><td style=\"width:24px;height:24px;text-align:center;\" bgcolor=\"white\"> </td><tr><td style=\"width:24px;height:24px;text-align:center;\" bgcolor=\"white\">8</td><td style=\"width:24px;height:24px;text-align:center;\" bgcolor=\"white\"><span style=\"font-size:24px\">♛</span></td><td style=\"width:24px;height:24px;text-align:center;\" bgcolor=\"darkgray\"></td><td style=\"width:24px;height:24px;text-align:center;\" bgcolor=\"white\"></td><td style=\"width:24px;height:24px;text-align:center;\" bgcolor=\"darkgray\"></td><td style=\"width:24px;height:24px;text-align:center;\" bgcolor=\"white\"></td><td style=\"width:24px;height:24px;text-align:center;\" bgcolor=\"darkgray\"></td><td style=\"width:24px;height:24px;text-align:center;\" bgcolor=\"white\"></td><td style=\"width:24px;height:24px;text-align:center;\" bgcolor=\"darkgray\"></td><td style=\"width:24px;height:24px;text-align:center;\" bgcolor=\"white\">8</td></tr><tr><td style=\"width:24px;height:24px;text-align:center;\" bgcolor=\"white\">7</td><td style=\"width:24px;height:24px;text-align:center;\" bgcolor=\"darkgray\"></td><td style=\"width:24px;height:24px;text-align:center;\" bgcolor=\"white\"></td><td style=\"width:24px;height:24px;text-align:center;\" bgcolor=\"darkgray\"></td><td style=\"width:24px;height:24px;text-align:center;\" bgcolor=\"white\"></td><td style=\"width:24px;height:24px;text-align:center;\" bgcolor=\"darkgray\"><span style=\"font-size:24px\">♛</span></td><td style=\"width:24px;height:24px;text-align:center;\" bgcolor=\"white\"></td><td style=\"width:24px;height:24px;text-align:center;\" bgcolor=\"darkgray\"></td><td style=\"width:24px;height:24px;text-align:center;\" bgcolor=\"white\"></td><td style=\"width:24px;height:24px;text-align:center;\" bgcolor=\"white\">7</td></tr><tr><td style=\"width:24px;height:24px;text-align:center;\" bgcolor=\"white\">6</td><td style=\"width:24px;height:24px;text-align:center;\" bgcolor=\"white\"></td><td style=\"width:24px;height:24px;text-align:center;\" bgcolor=\"darkgray\"></td><td style=\"width:24px;height:24px;text-align:center;\" bgcolor=\"white\"></td><td style=\"width:24px;height:24px;text-align:center;\" bgcolor=\"darkgray\"></td><td style=\"width:24px;height:24px;text-align:center;\" bgcolor=\"white\"></td><td style=\"width:24px;height:24px;text-align:center;\" bgcolor=\"darkgray\"></td><td style=\"width:24px;height:24px;text-align:center;\" bgcolor=\"white\"></td><td style=\"width:24px;height:24px;text-align:center;\" bgcolor=\"darkgray\"><span style=\"font-size:24px\">♛</span></td><td style=\"width:24px;height:24px;text-align:center;\" bgcolor=\"white\">6</td></tr><tr><td style=\"width:24px;height:24px;text-align:center;\" bgcolor=\"white\">5</td><td style=\"width:24px;height:24px;text-align:center;\" bgcolor=\"darkgray\"></td><td style=\"width:24px;height:24px;text-align:center;\" bgcolor=\"white\"></td><td style=\"width:24px;height:24px;text-align:center;\" bgcolor=\"darkgray\"></td><td style=\"width:24px;height:24px;text-align:center;\" bgcolor=\"white\"></td><td style=\"width:24px;height:24px;text-align:center;\" bgcolor=\"darkgray\"></td><td style=\"width:24px;height:24px;text-align:center;\" bgcolor=\"white\"><span style=\"font-size:24px\">♛</span></td><td style=\"width:24px;height:24px;text-align:center;\" bgcolor=\"darkgray\"></td><td style=\"width:24px;height:24px;text-align:center;\" bgcolor=\"white\"></td><td style=\"width:24px;height:24px;text-align:center;\" bgcolor=\"white\">5</td></tr><tr><td style=\"width:24px;height:24px;text-align:center;\" bgcolor=\"white\">4</td><td style=\"width:24px;height:24px;text-align:center;\" bgcolor=\"white\"></td><td style=\"width:24px;height:24px;text-align:center;\" bgcolor=\"darkgray\"></td><td style=\"width:24px;height:24px;text-align:center;\" bgcolor=\"white\"><span style=\"font-size:24px\">♛</span></td><td style=\"width:24px;height:24px;text-align:center;\" bgcolor=\"darkgray\"></td><td style=\"width:24px;height:24px;text-align:center;\" bgcolor=\"white\"></td><td style=\"width:24px;height:24px;text-align:center;\" bgcolor=\"darkgray\"></td><td style=\"width:24px;height:24px;text-align:center;\" bgcolor=\"white\"></td><td style=\"width:24px;height:24px;text-align:center;\" bgcolor=\"darkgray\"></td><td style=\"width:24px;height:24px;text-align:center;\" bgcolor=\"white\">4</td></tr><tr><td style=\"width:24px;height:24px;text-align:center;\" bgcolor=\"white\">3</td><td style=\"width:24px;height:24px;text-align:center;\" bgcolor=\"darkgray\"></td><td style=\"width:24px;height:24px;text-align:center;\" bgcolor=\"white\"></td><td style=\"width:24px;height:24px;text-align:center;\" bgcolor=\"darkgray\"></td><td style=\"width:24px;height:24px;text-align:center;\" bgcolor=\"white\"></td><td style=\"width:24px;height:24px;text-align:center;\" bgcolor=\"darkgray\"></td><td style=\"width:24px;height:24px;text-align:center;\" bgcolor=\"white\"></td><td style=\"width:24px;height:24px;text-align:center;\" bgcolor=\"darkgray\"><span style=\"font-size:24px\">♛</span></td><td style=\"width:24px;height:24px;text-align:center;\" bgcolor=\"white\"></td><td style=\"width:24px;height:24px;text-align:center;\" bgcolor=\"white\">3</td></tr><tr><td style=\"width:24px;height:24px;text-align:center;\" bgcolor=\"white\">2</td><td style=\"width:24px;height:24px;text-align:center;\" bgcolor=\"white\"></td><td style=\"width:24px;height:24px;text-align:center;\" bgcolor=\"darkgray\"><span style=\"font-size:24px\">♛</span></td><td style=\"width:24px;height:24px;text-align:center;\" bgcolor=\"white\"></td><td style=\"width:24px;height:24px;text-align:center;\" bgcolor=\"darkgray\"></td><td style=\"width:24px;height:24px;text-align:center;\" bgcolor=\"white\"></td><td style=\"width:24px;height:24px;text-align:center;\" bgcolor=\"darkgray\"></td><td style=\"width:24px;height:24px;text-align:center;\" bgcolor=\"white\"></td><td style=\"width:24px;height:24px;text-align:center;\" bgcolor=\"darkgray\"></td><td style=\"width:24px;height:24px;text-align:center;\" bgcolor=\"white\">2</td></tr><tr><td style=\"width:24px;height:24px;text-align:center;\" bgcolor=\"white\">1</td><td style=\"width:24px;height:24px;text-align:center;\" bgcolor=\"darkgray\"></td><td style=\"width:24px;height:24px;text-align:center;\" bgcolor=\"white\"></td><td style=\"width:24px;height:24px;text-align:center;\" bgcolor=\"darkgray\"></td><td style=\"width:24px;height:24px;text-align:center;\" bgcolor=\"white\"><span style=\"font-size:24px\">♛</span></td><td style=\"width:24px;height:24px;text-align:center;\" bgcolor=\"darkgray\"></td><td style=\"width:24px;height:24px;text-align:center;\" bgcolor=\"white\"></td><td style=\"width:24px;height:24px;text-align:center;\" bgcolor=\"darkgray\"></td><td style=\"width:24px;height:24px;text-align:center;\" bgcolor=\"white\"></td><td style=\"width:24px;height:24px;text-align:center;\" bgcolor=\"white\">1</td></tr><td style=\"width:24px;height:24px;text-align:center;\" bgcolor=\"white\"> </td><td style=\"width:24px;height:24px;text-align:center;\" bgcolor=\"white\">a</td><td style=\"width:24px;height:24px;text-align:center;\" bgcolor=\"white\">b</td><td style=\"width:24px;height:24px;text-align:center;\" bgcolor=\"white\">c</td><td style=\"width:24px;height:24px;text-align:center;\" bgcolor=\"white\">d</td><td style=\"width:24px;height:24px;text-align:center;\" bgcolor=\"white\">e</td><td style=\"width:24px;height:24px;text-align:center;\" bgcolor=\"white\">f</td><td style=\"width:24px;height:24px;text-align:center;\" bgcolor=\"white\">g</td><td style=\"width:24px;height:24px;text-align:center;\" bgcolor=\"white\">h</td><td style=\"width:24px;height:24px;text-align:center;\" bgcolor=\"white\"> </td></table>"
      ],
      "text/plain": [
       "<IPython.core.display.HTML object>"
      ]
     },
     "execution_count": 22,
     "metadata": {},
     "output_type": "execute_result"
    }
   ],
   "source": [
    "def check_place(rows, row, column):\n",
    "    \"\"\" Проверяет, если board[column][row] под атакой других ферзей \"\"\"\n",
    "    for i in range(row):\n",
    "        if rows[i] == column or \\\n",
    "            rows[i] - i == column - row or \\\n",
    "            rows[i] + i == column + row:\n",
    "            return False\n",
    "    return True\n",
    "\n",
    "total_shown = 0\n",
    "def put_queen(rows=[0]*8, row=0):\n",
    "    if row == 8:\n",
    "        arr = [[0] * 8 for i in range(8)]\n",
    "        for row, column in enumerate(rows):\n",
    "            arr[row][column] = 1\n",
    "        return chessboard(arr)\n",
    "    else:\n",
    "        for column in range(8):\n",
    "            if check_place(rows, row, column):\n",
    "                rows[row] = column\n",
    "                board = put_queen(rows, row + 1)\n",
    "                if board: return board\n",
    "    \n",
    "put_queen()"
   ]
  },
  {
   "cell_type": "code",
   "execution_count": 24,
   "metadata": {},
   "outputs": [
    {
     "name": "stdout",
     "output_type": "stream",
     "text": [
      "2\n",
      "2\n"
     ]
    }
   ],
   "source": [
    "a = [int(n) for n in input().split()]\n",
    "b=[]\n",
    "for i in range(0, len(a)):\n",
    "    b.append(str(a[i]))\n",
    "c=sorted(b)\n",
    "for i in range(0, len(a)-1):\n",
    "    r=0\n",
    "    while (r<len(c[i])) and (r<len(c[i+1])) and (c[i][r]) ==(c[i+1][r]) :\n",
    "        r=r+1\n",
    "    kor=r\n",
    "    if kor==len(c[i]):\n",
    "        while (r<len(c[i+1])-1) and (c[i][kor-1]) ==(c[i+1][r]) :\n",
    "            r=r+1\n",
    "    r=r-1\n",
    "    if (r>=len(c[i])-1) and (r!=len(c[i+1])-1):\n",
    "        print ((c[i][0]), (c[i+1][r+1]))\n",
    "        if (c[i][0])>(c[i+1][r+1]):\n",
    "            str1=c[i]\n",
    "            str2=c[i+1]\n",
    "            c[i]=str2\n",
    "            c[i+1]=str1\n",
    "        else:           \n",
    "            if (len(c[i])>r+1)and (c[i][0])==(c[i+1][r+1]):\n",
    "                k=1\n",
    "                while (c[i][0])==(c[i][k]):\n",
    "                    k=k+1\n",
    "                if (c[i][0])<(c[i][k]):                   \n",
    "                    str1=c[i]\n",
    "                    str2=c[i+1]\n",
    "                    c[i]=str2\n",
    "                    c[i+1]=str1\n",
    "    else:\n",
    "        if (len(c[i])>r+1)and (c[i][r+1])>(c[i+1][0]):           \n",
    "            str1=c[i]\n",
    "            str2=c[i+1]\n",
    "            c[i]=str2\n",
    "            c[i+1]=str1\n",
    "        else:\n",
    "             if (len(c[i])>r+1)and (c[i][r+1])==(c[i+1][0]):\n",
    "                k=1\n",
    "                while (c[i+1][0])==(c[i][k]):\n",
    "                    k=k+1\n",
    "                if (c[i+1][0])<(c[i+1][k]):\n",
    "                    str1=c[i]\n",
    "                    str2=c[i+1]\n",
    "                    c[i]=str2\n",
    "                    c[i+1]=str1          \n",
    "\n",
    "        \n",
    "otvet=\"\"\n",
    "for i in range(len(b)-1, -1, -1):\n",
    "    otvet=otvet+c[i]\n",
    "print (otvet)"
   ]
  },
  {
   "cell_type": "code",
   "execution_count": null,
   "metadata": {},
   "outputs": [],
   "source": []
  }
 ],
 "metadata": {
  "kernelspec": {
   "display_name": "Python 3",
   "language": "python",
   "name": "python3"
  },
  "language_info": {
   "codemirror_mode": {
    "name": "ipython",
    "version": 3
   },
   "file_extension": ".py",
   "mimetype": "text/x-python",
   "name": "python",
   "nbconvert_exporter": "python",
   "pygments_lexer": "ipython3",
   "version": "3.8.5"
  }
 },
 "nbformat": 4,
 "nbformat_minor": 4
}
